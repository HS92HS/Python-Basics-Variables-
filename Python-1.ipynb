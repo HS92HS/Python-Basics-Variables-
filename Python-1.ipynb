{
 "cells": [
  {
   "attachments": {},
   "cell_type": "markdown",
   "metadata": {},
   "source": [
    "Variables: In which we can store something, Like: a,b,num1, ETC."
   ]
  },
  {
   "cell_type": "code",
   "execution_count": 2,
   "metadata": {},
   "outputs": [],
   "source": [
    "a = 1\n",
    "# Here 'a' is a variable. "
   ]
  },
  {
   "attachments": {},
   "cell_type": "markdown",
   "metadata": {},
   "source": [
    "Data Types:\n",
    "Numbers : int, float, complex\n",
    "Text : string\n",
    "True/False: Boolean\n",
    "\n",
    "Data Structure:\n",
    "List, tuple, Dictionary, Set \n",
    "\n"
   ]
  },
  {
   "cell_type": "code",
   "execution_count": 16,
   "metadata": {},
   "outputs": [
    {
     "name": "stdout",
     "output_type": "stream",
     "text": [
      "<class 'int'>\n",
      "<class 'str'>\n",
      "<class 'bool'>\n"
     ]
    }
   ],
   "source": [
    "# Data Types:\n",
    "Integer_value = 5\n",
    "String_value = 'Hunain'\n",
    "# Boolean_Value:\n",
    "a = True\n",
    "b = False\n",
    "print(type(Integer_value))\n",
    "print(type(String_value))\n",
    "print(type(a))"
   ]
  },
  {
   "cell_type": "code",
   "execution_count": 17,
   "metadata": {},
   "outputs": [
    {
     "name": "stdout",
     "output_type": "stream",
     "text": [
      "<class 'list'>\n",
      "<class 'tuple'>\n",
      "<class 'set'>\n",
      "<class 'dict'>\n"
     ]
    }
   ],
   "source": [
    "# Data Structure:\n",
    "Lst = [1,2,3,4,5,6]\n",
    "Tuple = (1,2,3,4,5)\n",
    "Set = {1,2,3,4}\n",
    "Dictionary = {1:\"Hunain\",2:\"Kashi\",3:\"Mashooq Mastoi\"}\n",
    "print(type(Lst))\n",
    "print(type(Tuple))\n",
    "print(type(Set))\n",
    "print(type(Dictionary))"
   ]
  },
  {
   "attachments": {},
   "cell_type": "markdown",
   "metadata": {},
   "source": [
    "Operators"
   ]
  },
  {
   "cell_type": "code",
   "execution_count": 24,
   "metadata": {},
   "outputs": [
    {
     "name": "stdout",
     "output_type": "stream",
     "text": [
      "\n",
      "Assignment Operator : \n",
      "11\n",
      "-1\n",
      "30\n",
      "0.8333333333333334\n",
      "5\n",
      "\n",
      "Comparison Operator : \n",
      "False\n",
      "\n",
      "Logical Operator : \n",
      "False\n",
      "True\n"
     ]
    }
   ],
   "source": [
    "# Assignment Operators : =, +=, -=, *, /, %,*=, /=\n",
    "a = 5\n",
    "b = 6\n",
    "print(\"\\nAssignment Operator : \")\n",
    "print(a + b)\n",
    "print(a - b)\n",
    "print(a * b)\n",
    "print(a / b)\n",
    "print(a % b)\n",
    "# Comparison Operators : <, >, <=, >=, ==, !=\n",
    "print(\"\\nComparison Operator : \")\n",
    "print(b <= 5)\n",
    "# Logical Operators : AND, OR, NOT\n",
    "print(\"\\nLogical Operator : \")\n",
    "c = a and b\n",
    "print(c == 5)\n",
    "c = a or b\n",
    "print(c == 5)\n",
    "# Bitwise Operators\n",
    "# And many more to see on w3school>Python>Operators"
   ]
  },
  {
   "cell_type": "code",
   "execution_count": null,
   "metadata": {},
   "outputs": [],
   "source": [
    "# addition in existing file 2"
   ]
  }
 ],
 "metadata": {
  "kernelspec": {
   "display_name": "Python 3",
   "language": "python",
   "name": "python3"
  },
  "language_info": {
   "codemirror_mode": {
    "name": "ipython",
    "version": 3
   },
   "file_extension": ".py",
   "mimetype": "text/x-python",
   "name": "python",
   "nbconvert_exporter": "python",
   "pygments_lexer": "ipython3",
   "version": "3.11.1"
  },
  "orig_nbformat": 4,
  "vscode": {
   "interpreter": {
    "hash": "a5cda96636b30e269511e409ef69cdd5bbc9e0700412ba5870589e8a2d730db3"
   }
  }
 },
 "nbformat": 4,
 "nbformat_minor": 2
}
